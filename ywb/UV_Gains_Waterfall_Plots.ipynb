{
 "cells": [
  {
   "cell_type": "code",
   "execution_count": 16,
   "metadata": {
    "collapsed": true
   },
   "outputs": [],
   "source": [
    "from pyuvdata import UVCal\n",
    "import numpy as np\n",
    "import matplotlib.pyplot as plt\n",
    "import math\n",
    "\n",
    "%matplotlib inline"
   ]
  },
  {
   "cell_type": "code",
   "execution_count": 17,
   "metadata": {},
   "outputs": [
    {
     "data": {
      "image/png": "[encoded data removed]",
      "text/plain": [
       "<matplotlib.figure.Figure at 0x181ab70668>"
      ]
     },
     "metadata": {},
     "output_type": "display_data"
    }
   ],
   "source": [
    "#Type in list of specified antenna names/numbers, polarization, filename. Defaults set to None.\n",
    "\n",
    "#List of antenna names. Cannot be provided if antenna nums is also provided.\n",
    "antenna_namelist = None\n",
    "\n",
    "#List of antenna numbers. Cannot be provided if antenna names is also provided.\n",
    "antenna_numlist = [0,1,2,3,4]\n",
    "\n",
    "#Array of polarizations.\n",
    "polarization_array = [-6]\n",
    "\n",
    "#Fill in with filename.\n",
    "filename = '1163765528.calfits'\n",
    "\n",
    "#Displays waterfall plot of UV Gains corresponding to specified parameters.\n",
    "plot_gains(antenna_namelist, antenna_numlist, polarization_array, filename)"
   ]
  },
  {
   "cell_type": "code",
   "execution_count": 18,
   "metadata": {
    "collapsed": true
   },
   "outputs": [],
   "source": [
    "#Displays waterfall plot of UV Gains of specified antenna names/numbers and polarizations.\n",
    "def plot_gains(antenna_name, antenna_number, polarization_array, filename):\n",
    "    cal = UVCal()\n",
    "    cal.read_calfits(filename)\n",
    "    if antenna_name == None:\n",
    "        antenna_list = None\n",
    "    else:\n",
    "        antenna_list = [[] for x in range(0,len(antenna_name))]\n",
    "        for i in antenna_name:\n",
    "            antenna_list[antenna_name.index(i)].append(i)\n",
    "    if antenna_number == None:\n",
    "        antenna_num = None\n",
    "    else:\n",
    "        antenna_num = antenna_number\n",
    "    newcal = cal.select(antenna_names = antenna_list, antenna_nums = antenna_num, jones = polarization_array, inplace = False)\n",
    "    plt.imshow(np.abs(np.abs(newcal.gain_array[:,0,:,0,0])), aspect='auto')\n",
    "    plt.show()"
   ]
  }
 ],
 "metadata": {
  "kernelspec": {
   "display_name": "Python 3",
   "language": "python",
   "name": "python3"
  },
  "language_info": {
   "codemirror_mode": {
    "name": "ipython",
    "version": 3
   },
   "file_extension": ".py",
   "mimetype": "text/x-python",
   "name": "python",
   "nbconvert_exporter": "python",
   "pygments_lexer": "ipython3",
   "version": "3.6.8"
  }
 },
 "nbformat": 4,
 "nbformat_minor": 2
}
