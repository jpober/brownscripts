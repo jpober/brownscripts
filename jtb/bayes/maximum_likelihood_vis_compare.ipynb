{
 "cells": [
  {
   "cell_type": "code",
   "execution_count": null,
   "metadata": {},
   "outputs": [],
   "source": [
    "import os, sys\n",
    "import matplotlib.gridspec as gridspec\n",
    "\n",
    "from mpl_toolkits.axes_grid1.axes_divider import make_axes_locatable\n",
    "from matplotlib.pyplot import *\n",
    "%matplotlib inline"
   ]
  },
  {
   "cell_type": "code",
   "execution_count": null,
   "metadata": {},
   "outputs": [],
   "source": [
    "%run construct_maximum_likelihood_sky.py --freq=100 --zenith_source --grid_pos"
   ]
  },
  {
   "cell_type": "code",
   "execution_count": null,
   "metadata": {},
   "outputs": [],
   "source": [
    "%run construct_maximum_likelihood_sky.py --freq=100 --horizon_source"
   ]
  },
  {
   "cell_type": "code",
   "execution_count": null,
   "metadata": {},
   "outputs": [],
   "source": [
    "%run construct_maximum_likelihood_sky.py --freq=100 --m_offset=0.5 --l_offset=-0.25"
   ]
  },
  {
   "cell_type": "markdown",
   "metadata": {},
   "source": [
    "---"
   ]
  },
  {
   "cell_type": "markdown",
   "metadata": {},
   "source": [
    "#### Compute fitted RMS as source walked to edge of image using nearest pixel center as source location"
   ]
  },
  {
   "cell_type": "code",
   "execution_count": null,
   "metadata": {},
   "outputs": [],
   "source": [
    "%run plot_fitted_rms_vs_angular_offset_new.py --freq=100"
   ]
  },
  {
   "cell_type": "markdown",
   "metadata": {},
   "source": [
    "---"
   ]
  },
  {
   "cell_type": "markdown",
   "metadata": {},
   "source": [
    "To do 5/10:  \n",
    "  - 40 degree field of view (16x more pixels)\n",
    "  - Look at using a random set of floating point locations between l = 0 and l = 5 deg\n",
    "  - Look at multiple frequencies\n",
    "  - Look at beam\n",
    "    - Use Nicolas beams to generate visibilities (https://github.com/HERA-Team/HERA-Beams/tree/master/NicolasFagnoniBeams)\n",
    "    - Fit Gaussian to beam as the approximate model for the maximum likelihood solution beam\n",
    "  - Look at frequency dependent UV coverage"
   ]
  },
  {
   "cell_type": "markdown",
   "metadata": {},
   "source": [
    "------"
   ]
  },
  {
   "cell_type": "markdown",
   "metadata": {},
   "source": [
    "#### Add multiple sources"
   ]
  },
  {
   "cell_type": "code",
   "execution_count": null,
   "metadata": {},
   "outputs": [],
   "source": [
    "%run construct_maximum_likelihood_sky.py --freq=100 --nsources=400 --grid_pos"
   ]
  },
  {
   "cell_type": "markdown",
   "metadata": {},
   "source": [
    "---"
   ]
  },
  {
   "cell_type": "markdown",
   "metadata": {},
   "source": [
    "Look at histogram of residuals to see that the distribution is approximately Gaussian with std dev = RMS input (1e-5)"
   ]
  },
  {
   "cell_type": "code",
   "execution_count": null,
   "metadata": {},
   "outputs": [],
   "source": [
    "from scipy.optimize import curve_fit\n",
    "\n",
    "def Gaussian(x, a, x0, sigma):\n",
    "    return a*np.exp(-(x-x0)**2/(2*sigma**2))"
   ]
  },
  {
   "cell_type": "code",
   "execution_count": null,
   "metadata": {},
   "outputs": [],
   "source": [
    "figure(figsize=(16,9))\n",
    "\n",
    "counts, bins, patches = hist(diff_data[0].flatten(), bins=50)\n",
    "xlabel('|Vs| - |Max Likelihood Vs|, %.1fMHz' %freqs[freq_ind], size=16)\n",
    "ylabel('Counts', size=16)\n",
    "\n",
    "bin_width = np.mean(np.diff(bins))\n",
    "fit_xs = bins[:-1] + bin_width/2\n",
    "guess_params = [np.max(counts), 0.0, opts.rms]\n",
    "fit_params, fit_cov = curve_fit(Gaussian, fit_xs, counts, p0=guess_params)\n",
    "# 0: amplitude, 1: mean, 2:std dev\n",
    "gauss_fit = Gaussian(fit_xs, fit_params[0], fit_params[1], fit_params[2])\n",
    "plot(fit_xs, gauss_fit, 'k--', lw=2)\n",
    "title('Standard Deviation = %.3e' %fit_params[-1])\n",
    "gca().tick_params(axis='both', labelsize=16)"
   ]
  },
  {
   "cell_type": "markdown",
   "metadata": {},
   "source": [
    "---"
   ]
  },
  {
   "cell_type": "markdown",
   "metadata": {},
   "source": [
    "To do (4/25):\n",
    " - Make sure symmetry preserved if I add complex noise (add conjugate of complex noise to (-u, -v)) X\n",
    " - Look at source at edge of bottom most pixel X\n",
    "     - Look at walking along constant m with\n",
    "     - Also make the plot of fitted RMS/input RMS as you walk along pixel centers from (l, m) = (0, 0) X\n",
    " - See if shifting a source to a nearest pixel center produces the correct RMS when fit\n",
    "     - Maybe already accounted for?\n",
    "     - I think this is already accounted for (5/9)\n",
    " - Put in lots of sources X\n",
    " - Look at the solution for realistic uv coverage and a beam\n",
    "     - Add the frequency axis back in"
   ]
  },
  {
   "cell_type": "markdown",
   "metadata": {},
   "source": [
    "---"
   ]
  },
  {
   "cell_type": "markdown",
   "metadata": {},
   "source": [
    "# Extra plots"
   ]
  },
  {
   "cell_type": "markdown",
   "metadata": {},
   "source": [
    "### Log scale toggle plotting"
   ]
  },
  {
   "cell_type": "code",
   "execution_count": null,
   "metadata": {},
   "outputs": [],
   "source": [
    "log_scale = False\n",
    "freq_ind = 0\n",
    "extent_uv = [us_grid.min(), us_grid.max(), vs_grid.min(), vs_grid.max()]\n",
    "extent_lm = [ls.min(), ls.max(), ms.min(), ms.max()]\n",
    "\n",
    "fig = figure(figsize=(16,8))\n",
    "gs = gridspec.GridSpec(2, 3)\n",
    "\n",
    "\n",
    "# Plot sky\n",
    "skyax = fig.add_subplot(gs[0,0])\n",
    "if log_scale:\n",
    "    skyim = skyax.imshow(np.log10(Sky[freq_ind]), interpolation='nearest', extent=extent_lm)\n",
    "    skyax.set_title('Log Sky, %.1fMHz' %freqs[freq_ind])\n",
    "else:\n",
    "    skyim = skyax.imshow(Sky[freq_ind], interpolation='nearest', extent=extent_lm)\n",
    "    skyax.set_title('Sky, %.1fMHz' %freqs[freq_ind])\n",
    "skyax.set_xlabel('l')\n",
    "skyax.set_ylabel('m')\n",
    "\n",
    "\n",
    "# Plot visibilities using true source position\n",
    "visax = fig.add_subplot(gs[0,1])\n",
    "if np.abs(Vs[freq_ind]).min() == np.abs(Vs[freq_ind]).max():\n",
    "    if log_scale:\n",
    "        vmin = np.log10(np.abs(Vs[freq_ind]).min() - 1.e-5)\n",
    "        vmax = np.log10(np.abs(Vs[freq_ind]).min() + 1.e-5)\n",
    "    else:\n",
    "        vmin = np.abs(Vs[freq_ind]).min() - 1.e-5\n",
    "        vmax = np.abs(Vs[freq_ind]).min() + 1.e-5\n",
    "else:\n",
    "    if log_scale:\n",
    "        vmin = np.log10(np.abs(Vs[freq_ind]).min())\n",
    "        vmax = np.log10(np.abs(Vs[freq_ind]).max())\n",
    "    else:\n",
    "        vmin = np.abs(Vs[freq_ind]).min()\n",
    "        vmax = np.abs(Vs[freq_ind]).min()\n",
    "if log_scale:\n",
    "    visim = visax.imshow(np.log10(np.abs(Vs[freq_ind])), interpolation='nearest', extent=extent_uv, vmin=vmin, vmax=vmax)\n",
    "    visax.set_title('Log|Vs|, ' + str(freqs[freq_ind]) + 'MHz')\n",
    "else:\n",
    "    visim = visax.imshow(np.abs(Vs[freq_ind]), interpolation='nearest', extent=extent_uv, vmin=vmin, vmax=vmax)\n",
    "    visax.set_title('Vs, ' + str(freqs[freq_ind]) + 'MHz')\n",
    "visax.set_xlabel('u [m]')\n",
    "visax.set_ylabel('v [m]')\n",
    "\n",
    "\n",
    "# Plot sky solution for maximum likelihood\n",
    "anskyax = fig.add_subplot(gs[1,0])\n",
    "if log_scale:\n",
    "    anskyim = anskyax.imshow(np.log10(np.real(a[freq_ind])), interpolation='nearest', extent=extent_lm, origin='lower')\n",
    "    anskyax.set_title('Log Max Likelihood Sky, %.1fMHz' %freqs[freq_ind])\n",
    "else:\n",
    "    anskyim = anskyax.imshow(np.real(a[freq_ind]), interpolation='nearest', extent=extent_lm)\n",
    "    anskyax.set_title('Maximum Likelihood Sky, %.1fMHz' %freqs[freq_ind])\n",
    "anskyax.set_xlabel('l')\n",
    "anskyax.set_ylabel('m')\n",
    "\n",
    "\n",
    "# Plot visibilities for maximum likelihood solution\n",
    "anvisax = fig.add_subplot(gs[1,1])\n",
    "if log_scale:\n",
    "    anvisim = anvisax.imshow(np.log10(np.abs(Vs_maxl[freq_ind])), interpolation='nearest', extent=extent_uv)\n",
    "    anvisax.set_title('Log|Max Likelihood Visibilities|, %.1fMHz' %freqs[freq_ind])\n",
    "else:\n",
    "    anvisim = anvisax.imshow(np.abs(Vs_maxl[freq_ind]), interpolation='nearest', extent=extent_uv)\n",
    "    anvisax.set_title('|Max Likelihood Visibilities|, %.1fMHz' %freqs[freq_ind])\n",
    "anvisax.set_xlabel('u [m]')\n",
    "anvisax.set_ylabel('v [m]')\n",
    "\n",
    "\n",
    "# Plot |Vs| - |Vs_maxl|\n",
    "diff_data = np.abs(Vs) - np.abs(Vs_maxl)\n",
    "if log_scale:\n",
    "    diffim = diffax.imshow(np.log10(diff_data[freq_ind]), interpolation='nearest', extent=extent_uv)\n",
    "    diffax.set_title('Log(|Vs| - |Max Likelihood Vs|), %.1fMHz' %freqs[freq_ind])\n",
    "else:\n",
    "    diffax = fig.add_subplot(gs[:, -1])\n",
    "    diffim = diffax.imshow(diff_data[freq_ind], interpolation='nearest', extent=extent_uv)\n",
    "diffax.set_title('|Vs| - |Max Likelihood Vs|, %.1fMHz' %freqs[freq_ind])\n",
    "diffax.set_xlabel('u [m]')\n",
    "diffax.set_ylabel('v [m]')\n",
    "\n",
    "\n",
    "# imgs = [skyim, visim, ftvisim, anskyim, anvisim, anftvisim]\n",
    "imgs = [skyim, visim, anskyim, anvisim, diffim]\n",
    "\n",
    "for i,ax in enumerate(fig.axes):\n",
    "    ax_divider = make_axes_locatable(ax)\n",
    "    cax = ax_divider.append_axes(\"right\", size=\"5%\", pad=\"2%\")\n",
    "    cb = fig.colorbar(imgs[i], cax=cax)\n",
    "\n",
    "gs.tight_layout(fig)"
   ]
  },
  {
   "cell_type": "markdown",
   "metadata": {},
   "source": [
    "#### Log scale plotting"
   ]
  },
  {
   "cell_type": "code",
   "execution_count": null,
   "metadata": {},
   "outputs": [],
   "source": [
    "freq_ind = 0\n",
    "extent_uv = [us_grid.min(), us_grid.max(), vs_grid.min(), vs_grid.max()]\n",
    "extent_lm = [ls.min(), ls.max(), ms.min(), ms.max()]\n",
    "\n",
    "fig = figure(figsize=(16,8))\n",
    "gs = gridspec.GridSpec(2, 3)\n",
    "\n",
    "\n",
    "# Plot sky\n",
    "skyax = fig.add_subplot(gs[0,0])\n",
    "skyim = skyax.imshow(np.log10(Sky[freq_ind]), interpolation='nearest', extent=extent_lm)\n",
    "skyax.set_title('Log Sky, %.1fMHz' %freqs[freq_ind])\n",
    "skyax.set_xlabel('l')\n",
    "skyax.set_ylabel('m')\n",
    "\n",
    "# Plot visibilities using true source position\n",
    "visax = fig.add_subplot(gs[0,1])\n",
    "if np.abs(Vs[freq_ind]).min() == np.abs(Vs[freq_ind]).max():\n",
    "    vmin = np.log10(np.abs(Vs[freq_ind]).min() - 1.e-5)\n",
    "    vmax = np.log10(np.abs(Vs[freq_ind]).min() + 1.e-5)\n",
    "visim = visax.imshow(np.log10(np.abs(Vs[freq_ind])), interpolation='nearest', extent=extent_uv, vmin=vmin, vmax=vmax)\n",
    "visax.set_title('Log|Vs|, ' + str(freqs[freq_ind]) + 'MHz')\n",
    "visax.set_xlabel('u [m]')\n",
    "visax.set_ylabel('v [m]')\n",
    "\n",
    "# Plot FT visibilities using true source position\n",
    "# ftvisax = fig.add_subplot(gs[0,2])\n",
    "# ftvisim = ftvisax.imshow(np.abs(Vs_ft[freq_ind]), interpolation='nearest', extent=extent_uv)\n",
    "# ftvisax.set_title('|FT(Vs)|, %sMHz' %str(freqs[freq_ind]))\n",
    "# ftvisax.set_xlabel('u [m]')\n",
    "# ftvisax.set_ylabel('v [m]')\n",
    "\n",
    "# Plot sky solution for maximum likelihood\n",
    "anskyax = fig.add_subplot(gs[1,0])\n",
    "anskyim = anskyax.imshow(np.log10(np.real(a[freq_ind])), interpolation='nearest', extent=extent_lm, origin='lower')\n",
    "anskyax.set_title('Log Max Likelihood Sky, %.1fMHz' %freqs[freq_ind])\n",
    "anskyax.set_xlabel('l')\n",
    "anskyax.set_ylabel('m')\n",
    "\n",
    "# Plot visibilities for maximum likelihood solution\n",
    "anvisax = fig.add_subplot(gs[1,1])\n",
    "anvisim = anvisax.imshow(np.log10(np.abs(Vs_maxl[freq_ind])), interpolation='nearest', extent=extent_uv)\n",
    "anvisax.set_title('Log|Max Likelihood Visibilities|, %.1fMHz' %freqs[freq_ind])\n",
    "anvisax.set_xlabel('u [m]')\n",
    "anvisax.set_ylabel('v [m]')\n",
    "\n",
    "# Plot FT visibilities for maximum likelihood solution\n",
    "# anftvisax = fig.add_subplot(gs[1,2])\n",
    "# anftvisim = anftvisax.imshow(np.abs(Vs_aft[freq_ind]), interpolation='nearest', extent=extent_uv)\n",
    "# anftvisax.set_title('|FT(Maximum Likelihood Visibilities)|, %.1fMHz' %freqs[freq_ind])\n",
    "# anftvisax.set_xlabel('u [m]')\n",
    "# anftvisax.set_ylabel('v [m]')\n",
    "\n",
    "# Plot |Vs| - |Vs_maxl|\n",
    "diff_data = np.abs(Vs) - np.abs(Vs_maxl)\n",
    "diffax = fig.add_subplot(gs[:, -1])\n",
    "diffim = diffax.imshow(np.log10(diff_data[freq_ind]), interpolation='nearest', extent=extent_uv)\n",
    "diffax.set_title('Log(|Vs| - |Max Likelihood Vs|), %.1fMHz' %freqs[freq_ind])\n",
    "diffax.set_xlabel('u [m]')\n",
    "diffax.set_ylabel('v [m]')\n",
    "\n",
    "# imgs = [skyim, visim, ftvisim, anskyim, anvisim, anftvisim]\n",
    "imgs = [skyim, visim, anskyim, anvisim, diffim]\n",
    "\n",
    "for i,ax in enumerate(fig.axes):\n",
    "    ax_divider = make_axes_locatable(ax)\n",
    "    cax = ax_divider.append_axes(\"right\", size=\"5%\", pad=\"2%\")\n",
    "    cb = fig.colorbar(imgs[i], cax=cax)\n",
    "\n",
    "gs.tight_layout(fig)"
   ]
  },
  {
   "cell_type": "markdown",
   "metadata": {},
   "source": [
    "#### Plot visibilities generated using the anlytic solution and true source positions"
   ]
  },
  {
   "cell_type": "code",
   "execution_count": null,
   "metadata": {},
   "outputs": [],
   "source": [
    "freq_ind = 0\n",
    "extent_uv = [us_grid.min(), us_grid.max(), vs_grid.min(), vs_grid.max()]\n",
    "extent_lm = [ls.min(), ls.max(), ms.min(), ms.max()]\n",
    " \n",
    "fig = figure(figsize=(16, 8))\n",
    "gs = gridspec.GridSpec(1, 2)\n",
    "\n",
    "mskyax = fig.add_subplot(gs[0])\n",
    "mskyim = mskyax.imshow(np.real(a[freq_ind]), extent=extent_lm)\n",
    "mskyax.set_title('Real( Max L Sky ), %.1fMHz' %freqs[freq_ind])\n",
    "mskyax.set_xlabel('l')\n",
    "mskyax.set_ylabel('m')\n",
    "\n",
    "iskyax = fig.add_subplot(gs[1])\n",
    "iskyim = iskyax.imshow(np.imag(a[freq_ind]), extent=extent_lm)\n",
    "iskyax.set_title('Imag( Max L Sky ), %.1fMHz' %freqs[freq_ind])\n",
    "iskyax.set_xlabel('l')\n",
    "iskyax.set_ylabel('m')\n",
    "\n",
    "imgs = [mskyim, iskyim]\n",
    "\n",
    "for i,ax in enumerate(fig.axes):\n",
    "    ax_divider = make_axes_locatable(ax)\n",
    "    cax = ax_divider.append_axes(\"right\", size=\"5%\", pad=\"2%\")\n",
    "    cb = fig.colorbar(imgs[i], cax=cax)\n",
    "\n",
    "gs.tight_layout(fig)"
   ]
  },
  {
   "cell_type": "code",
   "execution_count": null,
   "metadata": {},
   "outputs": [],
   "source": [
    "right = np.dot(np.dot(DFT.conj().T, N_inv), d[0].flatten()).reshape((npix_side, npix_side))\n",
    "left = np.linalg.inv(np.dot(np.dot(DFT.conj().T, N_inv), DFT))\n",
    "\n",
    "fig = figure(figsize=(12,10))\n",
    "gs = gridspec.GridSpec(2,2)\n",
    "\n",
    "ax1 = subplot(gs[0, 0])\n",
    "realim = ax1.imshow(np.real(right), interpolation='nearest', extent=extent_uv)\n",
    "ax1.set_title(r'$\\Re(F^\\dagger N^{-1} d)$', size=16)\n",
    "\n",
    "ax2 = subplot(gs[0, 1])\n",
    "imagim = ax2.imshow(np.imag(right), interpolation='nearest', extent=extent_uv)\n",
    "ax2.set_title(r'$\\Im(F^\\dagger N^{-1} d)$', size=16)\n",
    "\n",
    "ax3 = subplot(gs[1, 0])\n",
    "realim2 = ax3.imshow(np.real(left), interpolation='nearest', extent=extent_uv)\n",
    "ax3.set_title(r'$\\Re(F^\\dagger N^{-1} F)^{-1}$', size=16)\n",
    "\n",
    "ax4 = subplot(gs[1, 1])\n",
    "imagim2 = ax4.imshow(np.imag(left), interpolation='nearest', extent=extent_uv)\n",
    "ax4.set_title(r'$\\Im(F^\\dagger N^{-1} F)^{-1}$', size=16)\n",
    "\n",
    "imgs = [realim, imagim, realim2, imagim2]\n",
    "\n",
    "for i,ax in enumerate(fig.axes):\n",
    "    ax_divider = make_axes_locatable(ax)\n",
    "    cax = ax_divider.append_axes(\"right\", size=\"5%\", pad=\"2%\")\n",
    "    cb = fig.colorbar(imgs[i], cax=cax)\n",
    "\n",
    "gs.tight_layout(fig)"
   ]
  },
  {
   "cell_type": "markdown",
   "metadata": {},
   "source": [
    "Check if phase of d matches phase of Vs"
   ]
  },
  {
   "cell_type": "code",
   "execution_count": null,
   "metadata": {},
   "outputs": [],
   "source": [
    "# imshow(np.real(d[0]), interpolation='nearest')\n",
    "# colorbar()\n",
    "# title(r'$\\Re(d)$')\n",
    "\n",
    "fig = figure(figsize=(12,10))\n",
    "gs = gridspec.GridSpec(2,2)\n",
    "\n",
    "ax1 = subplot(gs[0, 0])\n",
    "realim = ax1.imshow(np.real(d[0]), interpolation='nearest', extent=extent_uv)\n",
    "ax1.set_title(r'$\\Re(d)$', size=16)\n",
    "\n",
    "ax2 = subplot(gs[0, 1])\n",
    "imagim = ax2.imshow(np.imag(d[0]), interpolation='nearest', extent=extent_uv)\n",
    "ax2.set_title(r'$\\Im(d)$', size=16)\n",
    "\n",
    "ax3 = subplot(gs[1, 0])\n",
    "realim2 = ax3.imshow(np.real(Vs[0]), interpolation='nearest', extent=extent_uv)\n",
    "ax3.set_title(r'$\\Re(Vs)$', size=16)\n",
    "\n",
    "ax4 = subplot(gs[1, 1])\n",
    "imagim2 = ax4.imshow(np.imag(Vs[0]), interpolation='nearest', extent=extent_uv)\n",
    "ax4.set_title(r'$\\Im(Vs)$', size=16)\n",
    "\n",
    "imgs = [realim, imagim, realim2, imagim2]\n",
    "\n",
    "for i,ax in enumerate(fig.axes):\n",
    "    ax_divider = make_axes_locatable(ax)\n",
    "    cax = ax_divider.append_axes(\"right\", size=\"5%\", pad=\"2%\")\n",
    "    cb = fig.colorbar(imgs[i], cax=cax)\n",
    "\n",
    "gs.tight_layout(fig)"
   ]
  },
  {
   "cell_type": "markdown",
   "metadata": {},
   "source": [
    "Check what happens when N_inv*d and DFT*d to imaginary part"
   ]
  },
  {
   "cell_type": "code",
   "execution_count": null,
   "metadata": {},
   "outputs": [],
   "source": [
    "Nd = np.dot(N_inv, d[0].flatten()).reshape((npix_side, npix_side))\n",
    "DFTd = np.dot(DFT.conj().T, d[0].flatten()).reshape((npix_side, npix_side))\n",
    "\n",
    "fig = figure(figsize=(12,10))\n",
    "gs = gridspec.GridSpec(2,2)\n",
    "\n",
    "ax1 = subplot(gs[0, 0])\n",
    "realim = ax1.imshow(np.real(Nd), interpolation='nearest', extent=extent_uv)\n",
    "ax1.set_title(r'$\\Re(N^{-1} d)$', size=16)\n",
    "\n",
    "ax2 = subplot(gs[0, 1])\n",
    "imagim = ax2.imshow(np.imag(Nd), interpolation='nearest', extent=extent_uv)\n",
    "ax2.set_title(r'$\\Im(N^{-1} d)$', size=16)\n",
    "\n",
    "ax3 = subplot(gs[1, 0])\n",
    "realim2 = ax3.imshow(np.real(DFTd), interpolation='nearest', extent=extent_uv)\n",
    "ax3.set_title(r'$\\Re(F^\\dagger d)$', size=16)\n",
    "\n",
    "ax4 = subplot(gs[1, 1])\n",
    "imagim2 = ax4.imshow(np.imag(DFTd), interpolation='nearest', extent=extent_uv)\n",
    "ax4.set_title(r'$\\Im(F^\\dagger d)$', size=16)\n",
    "\n",
    "imgs = [realim, imagim, realim2, imagim2]\n",
    "\n",
    "for i,ax in enumerate(fig.axes):\n",
    "    ax_divider = make_axes_locatable(ax)\n",
    "    cax = ax_divider.append_axes(\"right\", size=\"5%\", pad=\"2%\")\n",
    "    cb = fig.colorbar(imgs[i], cax=cax)\n",
    "\n",
    "gs.tight_layout(fig)"
   ]
  },
  {
   "cell_type": "code",
   "execution_count": null,
   "metadata": {},
   "outputs": [],
   "source": [
    "imshow(np.abs(d[0]) - np.abs(Vs[0]), interpolation='nearest')\n",
    "title('|d| - |Vs|', size=16)\n",
    "colorbar()\n",
    "\n",
    "figure()\n",
    "# right = np.dot(np.dot(DFT.conj().T, N_inv), d[0, :].flatten()).reshape((npix_side, npix_side))\n",
    "# right2 = np.dot(np.dot(DFT.conj().T, N_inv), Vs[0, :].flatten()).reshape((npix_side, npix_side))\n",
    "right = np.dot(N_inv, d[0].flatten()).reshape((npix_side, npix_side))\n",
    "right2 = np.dot(N_inv, Vs[0].flatten()).reshape((npix_side, npix_side))\n",
    "imshow(np.abs(right) - np.abs(right2), interpolation='nearest')\n",
    "title(r'$\\left| N^{-1} d \\right| - \\left| N^{-1} Vs \\right|$', size=16)\n",
    "colorbar()"
   ]
  },
  {
   "cell_type": "code",
   "execution_count": null,
   "metadata": {},
   "outputs": [],
   "source": [
    "fig = figure(figsize=(16,9))\n",
    "gs = gridspec.GridSpec(1,4)\n",
    "\n",
    "i = 0\n",
    "d_temp = np.copy(Vs)[i].flatten()\n",
    "\n",
    "ax1 = subplot(gs[0])\n",
    "im1 = ax1.imshow(np.abs(d_temp.reshape((npix_side, npix_side))), interpolation='nearest', extent=extent_uv)\n",
    "ax1.set_title(r'$|d|$', size=16)\n",
    "\n",
    "# Add noise to off diagonals\n",
    "n = np.random.normal(0, RMS, top_right_inds.size)\n",
    "d_temp[top_right_inds] += n\n",
    "d_temp[bottom_left_inds] += n\n",
    "\n",
    "ax2 = subplot(gs[1])\n",
    "im2 = ax2.imshow(np.abs(d_temp.reshape((npix_side, npix_side))), interpolation='nearest', extent=extent_uv)\n",
    "ax2.set_title(r'$|d| + offdiag$', size=16)\n",
    "ax2.scatter(us_vec[top_right_inds], vs_vec[top_right_inds], c='r', marker='.')\n",
    "ax2.scatter(us_vec[bottom_left_inds], vs_vec[bottom_left_inds], c='r', marker='.')\n",
    "print d_temp[diag_inds].min(), d_temp[diag_inds].max()\n",
    "\n",
    "# Add noise to diagonal\n",
    "n = np.random.normal(0, RMS, diag_inds.size)\n",
    "d_temp[diag_inds] += n\n",
    "print d_temp[center_ind]\n",
    "\n",
    "ax3 = subplot(gs[2])\n",
    "im3 = ax3.imshow(np.abs(d_temp.reshape((npix_side, npix_side))), interpolation='nearest', extent=extent_uv)\n",
    "ax3.set_title(r'$|d| + offdiag + diag$', size=16)\n",
    "\n",
    "# Add noise to central pixel\n",
    "n = np.random.normal(0, RMS, center_ind.size)\n",
    "d_temp[center_ind] += n\n",
    "print d_temp[center_ind]\n",
    "print d_temp[diag_inds].min(), d_temp[diag_inds].max()\n",
    "\n",
    "ax4 = subplot(gs[3])\n",
    "im4 = ax4.imshow(np.abs(d_temp.reshape((npix_side, npix_side))), interpolation='nearest', extent=extent_uv)\n",
    "ax4.set_title(r'$|d| + offdiag + diag + center$')\n",
    "\n",
    "imgs = [im1, im2, im3, im4]\n",
    "\n",
    "for i,ax in enumerate(fig.axes):\n",
    "    ax_divider = make_axes_locatable(ax)\n",
    "    cax = ax_divider.append_axes(\"right\", size=\"5%\", pad=\"2%\")\n",
    "    cb = fig.colorbar(imgs[i], cax=cax)\n",
    "\n",
    "gs.tight_layout(fig)"
   ]
  }
 ],
 "metadata": {
  "kernelspec": {
   "display_name": "Python 2",
   "language": "python",
   "name": "python2"
  },
  "language_info": {
   "codemirror_mode": {
    "name": "ipython",
    "version": 2
   },
   "file_extension": ".py",
   "mimetype": "text/x-python",
   "name": "python",
   "nbconvert_exporter": "python",
   "pygments_lexer": "ipython2",
   "version": "2.7.14"
  }
 },
 "nbformat": 4,
 "nbformat_minor": 2
}
