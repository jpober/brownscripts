{
 "cells": [
  {
   "cell_type": "code",
   "execution_count": null,
   "metadata": {
    "collapsed": true
   },
   "outputs": [],
   "source": [
    "import numpy as np\n",
    "from matplotlib.pyplot import *\n",
    "%matplotlib inline"
   ]
  },
  {
   "cell_type": "markdown",
   "metadata": {},
   "source": [
    "# Array configuration"
   ]
  },
  {
   "cell_type": "code",
   "execution_count": null,
   "metadata": {},
   "outputs": [],
   "source": [
    "arr_pos_file = '/Users/JBurba/hera_things/brownscripts/jtb/bayes/hera-37_ant_pos.npy'\n",
    "arr_pos = np.load(arr_pos_file)\n",
    "scatter(arr_pos[:,0], arr_pos[:,1], marker='o')\n",
    "xlabel('x [m]', size=16)\n",
    "ylabel('y [m]', size=16, labelpad=15)"
   ]
  },
  {
   "cell_type": "markdown",
   "metadata": {},
   "source": [
    "# Generate uvws from array configuration"
   ]
  },
  {
   "cell_type": "code",
   "execution_count": null,
   "metadata": {},
   "outputs": [],
   "source": [
    "%run uv_from_blns.py --positions=$arr_pos_file --freq=150 --snapshot --plot\n",
    "# uvws = np.concatenate((-uvws, uvws), axis=2)\n",
    "# scatter(uvws[:,0,:], uvws[:,1,:], marker='o', c = 'b')\n",
    "# xlabel('u [wavelengths]', size=16)\n",
    "# ylabel('v [wavelengths]', size=16)"
   ]
  },
  {
   "cell_type": "markdown",
   "metadata": {},
   "source": [
    "# Compare NUDFT with analytical solution for point source"
   ]
  },
  {
   "cell_type": "code",
   "execution_count": null,
   "metadata": {},
   "outputs": [],
   "source": [
    "uvw_file = '/Users/JBurba/hera_things/brownscripts/jtb/bayes/uvws_150Mhz.npy'\n",
    "%run nudft.py --uvdata=$uvw_file --plot_phase\n",
    "\n",
    "# Numeric and analytic solution have no variation in amplitude so there's \n",
    "# really no need for the colorbar on the two top, middle plots"
   ]
  },
  {
   "cell_type": "markdown",
   "metadata": {},
   "source": [
    "### Check that phase changes when point source moved away from zenith"
   ]
  },
  {
   "cell_type": "code",
   "execution_count": null,
   "metadata": {},
   "outputs": [],
   "source": [
    "%run nudft.py --uvdata=$uvw_file --plot_phase --l_offset=0.5 --m_offset=0.5"
   ]
  },
  {
   "cell_type": "markdown",
   "metadata": {},
   "source": [
    "# Plot 2d power spectrum\n",
    "Averaged over circular annuli $k=\\sqrt{u^2+v^2}$ in the uv-plane\n",
    "$ P(k) = \\frac{1}{N_k}\\sum_{i=1}^{N_k}\\left|V_k(u,v)\\right|^2$.  \n",
    "Compared for various pixel lengths on a side i.e. varying sky resolution."
   ]
  },
  {
   "cell_type": "code",
   "execution_count": null,
   "metadata": {},
   "outputs": [],
   "source": [
    "%run plot_2d_power_spectrum.py --uvdata=$uvw_file"
   ]
  },
  {
   "cell_type": "markdown",
   "metadata": {},
   "source": [
    "### Effect of source position on 2d power spectra\n",
    "Compare 2d power spectra for point source catalog using exact and nearest pixel centers for source positions"
   ]
  },
  {
   "cell_type": "code",
   "execution_count": null,
   "metadata": {
    "collapsed": true
   },
   "outputs": [],
   "source": []
  }
 ],
 "metadata": {
  "kernelspec": {
   "display_name": "Python 2",
   "language": "python",
   "name": "python2"
  },
  "language_info": {
   "codemirror_mode": {
    "name": "ipython",
    "version": 2
   },
   "file_extension": ".py",
   "mimetype": "text/x-python",
   "name": "python",
   "nbconvert_exporter": "python",
   "pygments_lexer": "ipython2",
   "version": "2.7.14"
  }
 },
 "nbformat": 4,
 "nbformat_minor": 2
}
