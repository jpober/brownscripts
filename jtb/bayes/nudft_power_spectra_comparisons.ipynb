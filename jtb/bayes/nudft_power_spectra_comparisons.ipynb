{
 "cells": [
  {
   "cell_type": "code",
   "execution_count": null,
   "metadata": {},
   "outputs": [],
   "source": [
    "import numpy as np\n",
    "from matplotlib.pyplot import *\n",
    "%matplotlib inline"
   ]
  },
  {
   "cell_type": "markdown",
   "metadata": {},
   "source": [
    "# Array configuration"
   ]
  },
  {
   "cell_type": "code",
   "execution_count": null,
   "metadata": {},
   "outputs": [],
   "source": [
    "arr_pos_file = '/Users/JBurba/hera_things/brownscripts/jtb/bayes/hera-37_ant_pos.npy'\n",
    "arr_pos = np.load(arr_pos_file)\n",
    "scatter(arr_pos[:,0], arr_pos[:,1], marker='o')\n",
    "xlabel('x [m]', size=16)\n",
    "ylabel('y [m]', size=16, labelpad=15)"
   ]
  },
  {
   "cell_type": "markdown",
   "metadata": {},
   "source": [
    "# Generate uvws from array configuration"
   ]
  },
  {
   "cell_type": "code",
   "execution_count": null,
   "metadata": {},
   "outputs": [],
   "source": [
    "freq_str = '100-150'\n",
    "freq_res_str = '1.0'\n",
    "%run uv_from_blns.py --positions=$arr_pos_file --freq=$freq_str --freq_res=$freq_res_str --snapshot --plot --write\n",
    "uvw_path = '/Users/JBurba/hera_things/brownscripts/jtb/bayes/uvw_data/'\n",
    "uvw_file = uvw_path + 'uvws_' + freq_str + 'MHz_' + freq_res_str + 'MHz.npy'"
   ]
  },
  {
   "cell_type": "markdown",
   "metadata": {},
   "source": [
    "# Compare NUDFT with analytical solution for point source"
   ]
  },
  {
   "cell_type": "code",
   "execution_count": null,
   "metadata": {},
   "outputs": [],
   "source": [
    "%run nudft.py --uvdata=$uvw_file --plot_phase\n",
    "\n",
    "# Numeric and analytic solution have no variation in amplitude so there's \n",
    "# really no need for the colorbar on the two top, middle plots"
   ]
  },
  {
   "cell_type": "markdown",
   "metadata": {},
   "source": [
    "### Check that phase changes when point source moved away from zenith"
   ]
  },
  {
   "cell_type": "code",
   "execution_count": null,
   "metadata": {},
   "outputs": [],
   "source": [
    "%run nudft.py --uvdata=$uvw_file --plot_phase --l_offset=0.5 --m_offset=0.5"
   ]
  },
  {
   "cell_type": "markdown",
   "metadata": {},
   "source": [
    "# Plot 2d power spectrum\n",
    "Averaged over circular annuli $k=\\sqrt{u^2+v^2}$ in the uv-plane\n",
    "$ P(k) = \\frac{1}{N_k}\\sum_{i=1}^{N_k}\\left|V_k(u,v)\\right|^2$.  \n",
    "Compared for various pixel lengths on a side i.e. varying sky resolution."
   ]
  },
  {
   "cell_type": "code",
   "execution_count": null,
   "metadata": {},
   "outputs": [],
   "source": [
    "%run simulate_visibilities.py --uvdata=$uvw_file --freq=$freq_str --freq_res=$freq_res_str --zenith_source --write\n",
    "vis_path = '/Users/JBurba/hera_things/brownscripts/jtb/bayes/sim_vis/'\n",
    "vis_file = vis_path + 'visdata_' + freq_str + 'MHz_' + freq_res_str + 'MHz_zenith.npy'"
   ]
  },
  {
   "cell_type": "code",
   "execution_count": null,
   "metadata": {},
   "outputs": [],
   "source": [
    "%run simulate_visibilities.py --uvdata=$uvw_file --freq=$freq_str --freq_res=$freq_res_str --horizon_source --write\n",
    "vis_path = '/Users/JBurba/hera_things/brownscripts/jtb/bayes/sim_vis/'\n",
    "vis_file = vis_path + 'visdata_' + freq_str + 'MHz_' + freq_res_str + 'MHz_horizon.npy'"
   ]
  },
  {
   "cell_type": "markdown",
   "metadata": {},
   "source": [
    "### Plot simulated visibilities"
   ]
  },
  {
   "cell_type": "code",
   "execution_count": null,
   "metadata": {},
   "outputs": [],
   "source": [
    "%run plot_visibilities_npy.py --visdata=$vis_file"
   ]
  },
  {
   "cell_type": "code",
   "execution_count": null,
   "metadata": {},
   "outputs": [],
   "source": [
    "%run vis_position_compare.py --visdata=$vis_file"
   ]
  },
  {
   "cell_type": "markdown",
   "metadata": {},
   "source": [
    "### Effect of source position on 2d power spectra\n",
    "Compare 2d power spectra for point source catalog using exact and nearest pixel centers for source positions"
   ]
  },
  {
   "cell_type": "code",
   "execution_count": null,
   "metadata": {},
   "outputs": [],
   "source": [
    "%run delay_pspec_position_compare.py --visdata=$vis_file --grid_pos"
   ]
  },
  {
   "cell_type": "code",
   "execution_count": null,
   "metadata": {},
   "outputs": [],
   "source": [
    "%run delay_pspec_position_compare.py --visdata=$vis_file"
   ]
  },
  {
   "cell_type": "code",
   "execution_count": null,
   "metadata": {},
   "outputs": [],
   "source": [
    "np.nanmin(np.log10(fdiff_data))"
   ]
  },
  {
   "cell_type": "markdown",
   "metadata": {},
   "source": [
    "Maximum likelihood given by\n",
    "$$ \\log L = -\\frac{1}{2}\\left( \\mathbf{d} - \\mathbf{F}\\mathbf{a} \\right)^\\dagger \\mathbf{N}^{-1}\\left( \\mathbf{d} - \\mathbf{F}\\mathbf{a}  \\right) $$\n",
    "which has a solution of\n",
    "$$ \\hat{\\mathbf{a}} = \\left( \\mathbf{F}^\\dagger\\mathbf{N}^{-1}\\mathbf{F} \\right)^{-1}\\mathbf{F}\\mathbf{N}^{-1}\\mathbf{d} $$\n",
    "where $\\mathbf{d}=\\mathbf{s} + \\mathbf{n}$ is the data made of a signal $\\mathbf{s}$ and noise $\\mathbf{n}$ which can be generated from a set with an RMS of $\\sim10^{-5}$, we'll say.  This small RMS produces a small width in the peak of $\\log L$.  $\\mathbf{F}$ is the FT going from l,m to u,v space.  $\\mathbf{N}$ is the covariance matrix of the noise.  $\\mathbf{a}$ is a set of pixel amplitudes."
   ]
  },
  {
   "cell_type": "code",
   "execution_count": null,
   "metadata": {},
   "outputs": [],
   "source": []
  }
 ],
 "metadata": {
  "kernelspec": {
   "display_name": "Python 2",
   "language": "python",
   "name": "python2"
  },
  "language_info": {
   "codemirror_mode": {
    "name": "ipython",
    "version": 2
   },
   "file_extension": ".py",
   "mimetype": "text/x-python",
   "name": "python",
   "nbconvert_exporter": "python",
   "pygments_lexer": "ipython2",
   "version": "2.7.14"
  }
 },
 "nbformat": 4,
 "nbformat_minor": 2
}
